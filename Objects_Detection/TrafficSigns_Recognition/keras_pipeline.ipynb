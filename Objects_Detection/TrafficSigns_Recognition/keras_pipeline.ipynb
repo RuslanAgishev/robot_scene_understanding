{
 "cells": [
  {
   "cell_type": "code",
   "execution_count": 41,
   "metadata": {},
   "outputs": [],
   "source": [
    "# set the matplotlib backend so figures can be saved in the background\n",
    "%matplotlib inline\n",
    "# matplotlib.use(\"Agg\")\n",
    "\n",
    "from sklearn.metrics import classification_report\n",
    "from skimage import transform\n",
    "from skimage import exposure\n",
    "from skimage import io\n",
    "import matplotlib.pyplot as plt\n",
    "import numpy as np\n",
    "import random\n",
    "import time"
   ]
  },
  {
   "cell_type": "code",
   "execution_count": 44,
   "metadata": {},
   "outputs": [],
   "source": [
    "import os\n",
    "os.environ['CUDA_VISIBLE_DEVICES'] = '0'\n",
    "\n",
    "import tensorflow as tf\n",
    "config = tf.ConfigProto()\n",
    "config.gpu_options.per_process_gpu_memory_fraction = 0.9\n",
    "tf.keras.backend.set_session(tf.Session(config=config))\n",
    "\n",
    "# import the necessary packages\n",
    "from pyimagesearch.trafficsignnet import TrafficSignNet\n",
    "from tensorflow.keras.preprocessing.image import ImageDataGenerator\n",
    "from tensorflow.keras.optimizers import Adam\n",
    "from tensorflow.keras.utils import to_categorical\n",
    "from tensorflow.keras.models import load_model"
   ]
  },
  {
   "cell_type": "code",
   "execution_count": 16,
   "metadata": {},
   "outputs": [
    {
     "data": {
      "text/plain": [
       "True"
      ]
     },
     "execution_count": 16,
     "metadata": {},
     "output_type": "execute_result"
    }
   ],
   "source": [
    "tf.test.is_gpu_available()"
   ]
  },
  {
   "cell_type": "markdown",
   "metadata": {},
   "source": [
    "# Data preparation"
   ]
  },
  {
   "cell_type": "code",
   "execution_count": 17,
   "metadata": {},
   "outputs": [],
   "source": [
    "def load_split(basePath, csvPath):\n",
    "\t# initialize the list of data and labels\n",
    "\tdata = []\n",
    "\tlabels = []\n",
    "\n",
    "\t# load the contents of the CSV file, remove the first line (since\n",
    "\t# it contains the CSV header), and shuffle the rows (otherwise\n",
    "\t# all examples of a particular class will be in sequential order)\n",
    "\trows = open(csvPath).read().strip().split(\"\\n\")[1:]\n",
    "\trandom.shuffle(rows)\n",
    "\n",
    "\t# loop over the rows of the CSV file\n",
    "\tfor (i, row) in enumerate(rows):\n",
    "\t\t# check to see if we should show a status update\n",
    "\t\tif i > 0 and i % 1000 == 0:\n",
    "\t\t\tprint(\"[INFO] processed {} total images\".format(i))\n",
    "\n",
    "\t\t# split the row into components and then grab the class ID\n",
    "\t\t# and image path\n",
    "\t\t(label, imagePath) = row.strip().split(\",\")[-2:]\n",
    "\n",
    "\t\t# derive the full path to the image file and load it\n",
    "\t\timagePath = os.path.sep.join([basePath, imagePath])\n",
    "\t\timage = io.imread(imagePath)\n",
    "\n",
    "\t\t# resize the image to be 32x32 pixels, ignoring aspect ratio,\n",
    "\t\t# and then perform Contrast Limited Adaptive Histogram\n",
    "\t\t# Equalization (CLAHE)\n",
    "\t\timage = transform.resize(image, (32, 32))\n",
    "\t\timage = exposure.equalize_adapthist(image, clip_limit=0.1)\n",
    "\n",
    "\t\t# update the list of data and labels, respectively\n",
    "\t\tdata.append(image)\n",
    "\t\tlabels.append(int(label))\n",
    "\n",
    "\t# convert the data and labels to NumPy arrays\n",
    "\tdata = np.array(data)\n",
    "\tlabels = np.array(labels)\n",
    "\n",
    "\t# return a tuple of the data and labels\n",
    "\treturn (data, labels)"
   ]
  },
  {
   "cell_type": "code",
   "execution_count": 18,
   "metadata": {},
   "outputs": [],
   "source": [
    "dataset_location = \"gtsrb-german-traffic-sign\" #path to input GTSRB\n",
    "model_output_name = \"output/trafficsignnet\"+str(int(time.time()))+\".model\" #path to output model\n",
    "plot = \"output/plot.png\" #path to training history plot"
   ]
  },
  {
   "cell_type": "code",
   "execution_count": 20,
   "metadata": {},
   "outputs": [],
   "source": [
    "# initialize the number of epochs to train for, base learning rate,\n",
    "# and batch size\n",
    "NUM_EPOCHS = 30\n",
    "INIT_LR = 1e-3\n",
    "BS = 64"
   ]
  },
  {
   "cell_type": "code",
   "execution_count": 21,
   "metadata": {},
   "outputs": [],
   "source": [
    "# load the label names\n",
    "labelNames = open(\"signnames.csv\").read().strip().split(\"\\n\")[1:]\n",
    "labelNames = [l.split(\",\")[1] for l in labelNames]"
   ]
  },
  {
   "cell_type": "code",
   "execution_count": 22,
   "metadata": {},
   "outputs": [
    {
     "data": {
      "text/plain": [
       "['Speed limit (20km/h)',\n",
       " 'Speed limit (30km/h)',\n",
       " 'Speed limit (50km/h)',\n",
       " 'Speed limit (60km/h)',\n",
       " 'Speed limit (70km/h)',\n",
       " 'Speed limit (80km/h)',\n",
       " 'End of speed limit (80km/h)',\n",
       " 'Speed limit (100km/h)',\n",
       " 'Speed limit (120km/h)',\n",
       " 'No passing',\n",
       " 'No passing for vehicles over 3.5 metric tons',\n",
       " 'Right-of-way at the next intersection',\n",
       " 'Priority road',\n",
       " 'Yield',\n",
       " 'Stop',\n",
       " 'No vehicles',\n",
       " 'Vehicles over 3.5 metric tons prohibited',\n",
       " 'No entry',\n",
       " 'General caution',\n",
       " 'Dangerous curve to the left',\n",
       " 'Dangerous curve to the right',\n",
       " 'Double curve',\n",
       " 'Bumpy road',\n",
       " 'Slippery road',\n",
       " 'Road narrows on the right',\n",
       " 'Road work',\n",
       " 'Traffic signals',\n",
       " 'Pedestrians',\n",
       " 'Children crossing',\n",
       " 'Bicycles crossing',\n",
       " 'Beware of ice/snow',\n",
       " 'Wild animals crossing',\n",
       " 'End of all speed and passing limits',\n",
       " 'Turn right ahead',\n",
       " 'Turn left ahead',\n",
       " 'Ahead only',\n",
       " 'Go straight or right',\n",
       " 'Go straight or left',\n",
       " 'Keep right',\n",
       " 'Keep left',\n",
       " 'Roundabout mandatory',\n",
       " 'End of no passing',\n",
       " 'End of no passing by vehicles over 3.5 metric tons']"
      ]
     },
     "execution_count": 22,
     "metadata": {},
     "output_type": "execute_result"
    }
   ],
   "source": [
    "labelNames"
   ]
  },
  {
   "cell_type": "code",
   "execution_count": 23,
   "metadata": {},
   "outputs": [],
   "source": [
    "# derive the path to the training and testing CSV files\n",
    "trainPath = os.path.sep.join([dataset_location, \"Train.csv\"])\n",
    "testPath = os.path.sep.join([dataset_location, \"Test.csv\"])"
   ]
  },
  {
   "cell_type": "code",
   "execution_count": 13,
   "metadata": {},
   "outputs": [
    {
     "name": "stdout",
     "output_type": "stream",
     "text": [
      "[INFO] loading training and testing data...\n",
      "[INFO] processed 1000 total images\n",
      "[INFO] processed 2000 total images\n",
      "[INFO] processed 3000 total images\n",
      "[INFO] processed 4000 total images\n",
      "[INFO] processed 5000 total images\n",
      "[INFO] processed 6000 total images\n",
      "[INFO] processed 7000 total images\n",
      "[INFO] processed 8000 total images\n",
      "[INFO] processed 9000 total images\n",
      "[INFO] processed 10000 total images\n",
      "[INFO] processed 11000 total images\n",
      "[INFO] processed 12000 total images\n",
      "[INFO] processed 13000 total images\n",
      "[INFO] processed 14000 total images\n",
      "[INFO] processed 15000 total images\n",
      "[INFO] processed 16000 total images\n",
      "[INFO] processed 17000 total images\n",
      "[INFO] processed 18000 total images\n",
      "[INFO] processed 19000 total images\n",
      "[INFO] processed 20000 total images\n",
      "[INFO] processed 21000 total images\n",
      "[INFO] processed 22000 total images\n",
      "[INFO] processed 23000 total images\n",
      "[INFO] processed 24000 total images\n",
      "[INFO] processed 25000 total images\n",
      "[INFO] processed 26000 total images\n",
      "[INFO] processed 27000 total images\n",
      "[INFO] processed 28000 total images\n",
      "[INFO] processed 29000 total images\n",
      "[INFO] processed 30000 total images\n",
      "[INFO] processed 31000 total images\n",
      "[INFO] processed 32000 total images\n",
      "[INFO] processed 33000 total images\n",
      "[INFO] processed 34000 total images\n",
      "[INFO] processed 35000 total images\n",
      "[INFO] processed 36000 total images\n",
      "[INFO] processed 37000 total images\n",
      "[INFO] processed 38000 total images\n",
      "[INFO] processed 39000 total images\n",
      "[INFO] processed 1000 total images\n",
      "[INFO] processed 2000 total images\n",
      "[INFO] processed 3000 total images\n",
      "[INFO] processed 4000 total images\n",
      "[INFO] processed 5000 total images\n",
      "[INFO] processed 6000 total images\n",
      "[INFO] processed 7000 total images\n",
      "[INFO] processed 8000 total images\n",
      "[INFO] processed 9000 total images\n",
      "[INFO] processed 10000 total images\n",
      "[INFO] processed 11000 total images\n",
      "[INFO] processed 12000 total images\n"
     ]
    }
   ],
   "source": [
    "# load the training and testing data\n",
    "print(\"[INFO] loading training and testing data...\")\n",
    "(trainX, trainY) = load_split(dataset_location, trainPath)\n",
    "(testX, testY) = load_split(dataset_location, testPath)"
   ]
  },
  {
   "cell_type": "code",
   "execution_count": 24,
   "metadata": {},
   "outputs": [],
   "source": [
    "# scale data to the range of [0, 1]\n",
    "trainX = trainX.astype(\"float32\") / 255.0\n",
    "testX = testX.astype(\"float32\") / 255.0\n",
    "\n",
    "# one-hot encode the training and testing labels\n",
    "numLabels = len(np.unique(trainY))\n",
    "trainY = to_categorical(trainY, numLabels)\n",
    "testY = to_categorical(testY, numLabels)"
   ]
  },
  {
   "cell_type": "code",
   "execution_count": 27,
   "metadata": {},
   "outputs": [],
   "source": [
    "# account for skew in the labeled data\n",
    "classTotals = trainY.sum(axis=0)\n",
    "classWeight = classTotals.max() / classTotals"
   ]
  },
  {
   "cell_type": "code",
   "execution_count": 28,
   "metadata": {},
   "outputs": [],
   "source": [
    "# construct the image generator for data augmentation\n",
    "aug = ImageDataGenerator(\n",
    "    rotation_range=10,\n",
    "    zoom_range=0.15,\n",
    "    width_shift_range=0.1,\n",
    "    height_shift_range=0.1,\n",
    "    shear_range=0.15,\n",
    "    horizontal_flip=False,\n",
    "    vertical_flip=False,\n",
    "    fill_mode=\"nearest\")"
   ]
  },
  {
   "cell_type": "markdown",
   "metadata": {},
   "source": [
    "# Building the model and training"
   ]
  },
  {
   "cell_type": "code",
   "execution_count": 29,
   "metadata": {},
   "outputs": [
    {
     "name": "stdout",
     "output_type": "stream",
     "text": [
      "[INFO] compiling model...\n",
      "WARNING:tensorflow:From /home/ruslan/.local/lib/python3.6/site-packages/tensorflow/python/ops/init_ops.py:1251: calling VarianceScaling.__init__ (from tensorflow.python.ops.init_ops) with dtype is deprecated and will be removed in a future version.\n",
      "Instructions for updating:\n",
      "Call initializer instance with the dtype argument instead of passing it to the constructor\n"
     ]
    }
   ],
   "source": [
    "# initialize the optimizer and model\n",
    "print(\"[INFO] compiling model...\")\n",
    "opt = Adam(lr=INIT_LR, decay=INIT_LR / (NUM_EPOCHS * 0.5))\n",
    "model = TrafficSignNet.build(width=32, height=32, depth=3, classes=numLabels)\n",
    "model.compile(loss=\"categorical_crossentropy\", optimizer=opt, metrics=[\"accuracy\"])"
   ]
  },
  {
   "cell_type": "code",
   "execution_count": 30,
   "metadata": {},
   "outputs": [
    {
     "name": "stdout",
     "output_type": "stream",
     "text": [
      "[INFO] training network...\n",
      "Epoch 1/30\n",
      "612/612 [==============================] - 14s 22ms/step - loss: 2.6331 - acc: 0.3049 - val_loss: 2.6547 - val_acc: 0.2699\n",
      "Epoch 2/30\n",
      "612/612 [==============================] - 12s 19ms/step - loss: 1.3125 - acc: 0.5831 - val_loss: 0.6717 - val_acc: 0.7735\n",
      "Epoch 3/30\n",
      "612/612 [==============================] - 12s 19ms/step - loss: 0.8536 - acc: 0.7281 - val_loss: 0.5187 - val_acc: 0.8252\n",
      "Epoch 4/30\n",
      "612/612 [==============================] - 12s 19ms/step - loss: 0.6295 - acc: 0.7995 - val_loss: 0.3676 - val_acc: 0.8819\n",
      "Epoch 5/30\n",
      "612/612 [==============================] - 12s 19ms/step - loss: 0.4896 - acc: 0.8436 - val_loss: 0.2823 - val_acc: 0.9089\n",
      "Epoch 6/30\n",
      "612/612 [==============================] - 12s 19ms/step - loss: 0.4099 - acc: 0.8703 - val_loss: 1.4158 - val_acc: 0.6439\n",
      "Epoch 7/30\n",
      "612/612 [==============================] - 12s 19ms/step - loss: 0.3494 - acc: 0.8899 - val_loss: 0.3335 - val_acc: 0.8983\n",
      "Epoch 8/30\n",
      "612/612 [==============================] - 12s 19ms/step - loss: 0.2987 - acc: 0.9049 - val_loss: 0.1973 - val_acc: 0.9382\n",
      "Epoch 9/30\n",
      "612/612 [==============================] - 12s 19ms/step - loss: 0.2701 - acc: 0.9142 - val_loss: 0.3472 - val_acc: 0.9005\n",
      "Epoch 10/30\n",
      "612/612 [==============================] - 12s 19ms/step - loss: 0.2364 - acc: 0.9248 - val_loss: 0.2203 - val_acc: 0.9386\n",
      "Epoch 11/30\n",
      "612/612 [==============================] - 12s 19ms/step - loss: 0.2190 - acc: 0.9322 - val_loss: 0.2086 - val_acc: 0.9389\n",
      "Epoch 12/30\n",
      "612/612 [==============================] - 11s 19ms/step - loss: 0.1992 - acc: 0.9382 - val_loss: 0.2162 - val_acc: 0.9341\n",
      "Epoch 13/30\n",
      "612/612 [==============================] - 12s 19ms/step - loss: 0.1963 - acc: 0.9385 - val_loss: 0.4723 - val_acc: 0.8703\n",
      "Epoch 14/30\n",
      "612/612 [==============================] - 12s 19ms/step - loss: 0.1731 - acc: 0.9454 - val_loss: 0.2641 - val_acc: 0.9275\n",
      "Epoch 15/30\n",
      "612/612 [==============================] - 11s 19ms/step - loss: 0.1659 - acc: 0.9479 - val_loss: 0.1919 - val_acc: 0.9421\n",
      "Epoch 16/30\n",
      "612/612 [==============================] - 12s 19ms/step - loss: 0.1550 - acc: 0.9508 - val_loss: 0.3490 - val_acc: 0.9105\n",
      "Epoch 17/30\n",
      "612/612 [==============================] - 11s 19ms/step - loss: 0.1470 - acc: 0.9541 - val_loss: 0.2425 - val_acc: 0.9308\n",
      "Epoch 18/30\n",
      "612/612 [==============================] - 11s 19ms/step - loss: 0.1444 - acc: 0.9550 - val_loss: 0.2804 - val_acc: 0.9228\n",
      "Epoch 19/30\n",
      "612/612 [==============================] - 11s 19ms/step - loss: 0.1390 - acc: 0.9564 - val_loss: 0.2974 - val_acc: 0.9206\n",
      "Epoch 20/30\n",
      "612/612 [==============================] - 12s 19ms/step - loss: 0.1287 - acc: 0.9610 - val_loss: 0.2349 - val_acc: 0.9344\n",
      "Epoch 21/30\n",
      "612/612 [==============================] - 12s 19ms/step - loss: 0.1258 - acc: 0.9613 - val_loss: 0.6833 - val_acc: 0.8417\n",
      "Epoch 22/30\n",
      "612/612 [==============================] - 12s 19ms/step - loss: 0.1249 - acc: 0.9617 - val_loss: 5.1040 - val_acc: 0.2625\n",
      "Epoch 23/30\n",
      "612/612 [==============================] - 11s 19ms/step - loss: 0.1170 - acc: 0.9642 - val_loss: 0.1622 - val_acc: 0.9559\n",
      "Epoch 24/30\n",
      "612/612 [==============================] - 12s 19ms/step - loss: 0.1140 - acc: 0.9647 - val_loss: 2.1402 - val_acc: 0.5998\n",
      "Epoch 25/30\n",
      "612/612 [==============================] - 11s 19ms/step - loss: 0.1046 - acc: 0.9672 - val_loss: 0.2197 - val_acc: 0.9412\n",
      "Epoch 26/30\n",
      "612/612 [==============================] - 11s 19ms/step - loss: 0.1080 - acc: 0.9667 - val_loss: 1.3946 - val_acc: 0.6916\n",
      "Epoch 27/30\n",
      "612/612 [==============================] - 11s 19ms/step - loss: 0.1110 - acc: 0.9659 - val_loss: 0.1944 - val_acc: 0.9457\n",
      "Epoch 28/30\n",
      "612/612 [==============================] - 11s 19ms/step - loss: 0.1046 - acc: 0.9677 - val_loss: 0.2614 - val_acc: 0.9363\n",
      "Epoch 29/30\n",
      "612/612 [==============================] - 11s 19ms/step - loss: 0.0965 - acc: 0.9696 - val_loss: 0.2995 - val_acc: 0.9225\n",
      "Epoch 30/30\n",
      "612/612 [==============================] - 11s 19ms/step - loss: 0.0973 - acc: 0.9709 - val_loss: 0.2555 - val_acc: 0.9336\n"
     ]
    }
   ],
   "source": [
    "# compile the model and train the network\n",
    "print(\"[INFO] training network...\")\n",
    "H = model.fit_generator(\n",
    "    aug.flow(trainX, trainY, batch_size=BS),\n",
    "    validation_data=(testX, testY),\n",
    "    steps_per_epoch=trainX.shape[0] // BS,\n",
    "    epochs=NUM_EPOCHS,\n",
    "    class_weight=classWeight,\n",
    "    verbose=1)"
   ]
  },
  {
   "cell_type": "markdown",
   "metadata": {},
   "source": [
    "# Model evaluation"
   ]
  },
  {
   "cell_type": "code",
   "execution_count": 31,
   "metadata": {},
   "outputs": [
    {
     "name": "stdout",
     "output_type": "stream",
     "text": [
      "[INFO] evaluating network...\n",
      "                                                    precision    recall  f1-score   support\n",
      "\n",
      "                              Speed limit (20km/h)       0.98      0.77      0.86        60\n",
      "                              Speed limit (30km/h)       0.92      0.99      0.95       720\n",
      "                              Speed limit (50km/h)       0.99      0.95      0.97       750\n",
      "                              Speed limit (60km/h)       1.00      0.84      0.91       450\n",
      "                              Speed limit (70km/h)       0.99      0.96      0.97       660\n",
      "                              Speed limit (80km/h)       0.87      0.89      0.88       630\n",
      "                       End of speed limit (80km/h)       0.79      0.81      0.80       150\n",
      "                             Speed limit (100km/h)       0.81      0.99      0.89       450\n",
      "                             Speed limit (120km/h)       0.94      0.97      0.95       450\n",
      "                                        No passing       0.99      0.95      0.97       480\n",
      "      No passing for vehicles over 3.5 metric tons       0.99      0.98      0.98       660\n",
      "             Right-of-way at the next intersection       0.95      0.91      0.93       420\n",
      "                                     Priority road       1.00      0.92      0.96       690\n",
      "                                             Yield       0.99      0.99      0.99       720\n",
      "                                              Stop       0.92      1.00      0.96       270\n",
      "                                       No vehicles       0.99      0.98      0.98       210\n",
      "          Vehicles over 3.5 metric tons prohibited       0.94      0.99      0.97       150\n",
      "                                          No entry       1.00      1.00      1.00       360\n",
      "                                   General caution       0.91      0.87      0.89       390\n",
      "                       Dangerous curve to the left       0.79      0.95      0.86        60\n",
      "                      Dangerous curve to the right       0.93      0.59      0.72        90\n",
      "                                      Double curve       0.72      0.82      0.77        90\n",
      "                                        Bumpy road       0.98      0.88      0.93       120\n",
      "                                     Slippery road       0.91      0.90      0.91       150\n",
      "                         Road narrows on the right       0.69      0.99      0.81        90\n",
      "                                         Road work       0.98      0.95      0.97       480\n",
      "                                   Traffic signals       0.98      0.75      0.85       180\n",
      "                                       Pedestrians       0.75      0.40      0.52        60\n",
      "                                 Children crossing       0.63      0.97      0.76       150\n",
      "                                 Bicycles crossing       0.59      0.98      0.74        90\n",
      "                                Beware of ice/snow       0.86      0.55      0.67       150\n",
      "                             Wild animals crossing       0.98      0.98      0.98       270\n",
      "               End of all speed and passing limits       1.00      0.33      0.50        60\n",
      "                                  Turn right ahead       0.94      1.00      0.97       210\n",
      "                                   Turn left ahead       0.92      1.00      0.96       120\n",
      "                                        Ahead only       0.99      0.98      0.98       390\n",
      "                              Go straight or right       0.94      0.95      0.95       120\n",
      "                               Go straight or left       0.95      0.93      0.94        60\n",
      "                                        Keep right       0.93      1.00      0.96       690\n",
      "                                         Keep left       1.00      0.86      0.92        90\n",
      "                              Roundabout mandatory       0.82      0.99      0.89        90\n",
      "                                 End of no passing       1.00      0.67      0.80        60\n",
      "End of no passing by vehicles over 3.5 metric tons       0.90      0.80      0.85        90\n",
      "\n",
      "                                          accuracy                           0.93     12630\n",
      "                                         macro avg       0.91      0.88      0.88     12630\n",
      "                                      weighted avg       0.94      0.93      0.93     12630\n",
      "\n"
     ]
    }
   ],
   "source": [
    "# evaluate the network\n",
    "print(\"[INFO] evaluating network...\")\n",
    "predictions = model.predict(testX, batch_size=BS)\n",
    "print(classification_report(testY.argmax(axis=1), predictions.argmax(axis=1), target_names=labelNames))"
   ]
  },
  {
   "cell_type": "code",
   "execution_count": 33,
   "metadata": {},
   "outputs": [
    {
     "name": "stdout",
     "output_type": "stream",
     "text": [
      "[INFO] serializing network to 'output/trafficsignnet1572968296.model'...\n"
     ]
    }
   ],
   "source": [
    "# save the network to disk\n",
    "print(\"[INFO] serializing network to '{}'...\".format(model_output_name))\n",
    "model.save(model_output_name)"
   ]
  },
  {
   "cell_type": "code",
   "execution_count": 42,
   "metadata": {},
   "outputs": [
    {
     "data": {
      "image/png": "[encoded data removed]",
      "text/plain": [
       "<Figure size 432x288 with 1 Axes>"
      ]
     },
     "metadata": {},
     "output_type": "display_data"
    }
   ],
   "source": [
    "# plot the training loss and accuracy\n",
    "N = np.arange(0, NUM_EPOCHS)\n",
    "plt.style.use(\"ggplot\")\n",
    "plt.figure()\n",
    "plt.plot(N, H.history[\"loss\"], label=\"train_loss\")\n",
    "plt.plot(N, H.history[\"val_loss\"], label=\"val_loss\")\n",
    "plt.plot(N, H.history[\"acc\"], label=\"train_acc\")\n",
    "plt.plot(N, H.history[\"val_acc\"], label=\"val_acc\")\n",
    "plt.title(\"Training Loss and Accuracy on Dataset\")\n",
    "plt.xlabel(\"Epoch #\")\n",
    "plt.ylabel(\"Loss/Accuracy\")\n",
    "plt.legend(loc=\"lower left\")\n",
    "# plt.savefig(plot)\n",
    "plt.show()"
   ]
  },
  {
   "cell_type": "markdown",
   "metadata": {},
   "source": [
    "# Predictions on test images"
   ]
  },
  {
   "cell_type": "code",
   "execution_count": 57,
   "metadata": {},
   "outputs": [],
   "source": [
    "import imutils\n",
    "from imutils import paths\n",
    "import cv2"
   ]
  },
  {
   "cell_type": "markdown",
   "metadata": {},
   "source": [
    "Load the trained model"
   ]
  },
  {
   "cell_type": "code",
   "execution_count": 45,
   "metadata": {},
   "outputs": [
    {
     "name": "stdout",
     "output_type": "stream",
     "text": [
      "[INFO] loading model...\n",
      "WARNING:tensorflow:From /home/ruslan/.local/lib/python3.6/site-packages/tensorflow/python/ops/init_ops.py:97: calling GlorotUniform.__init__ (from tensorflow.python.ops.init_ops) with dtype is deprecated and will be removed in a future version.\n",
      "Instructions for updating:\n",
      "Call initializer instance with the dtype argument instead of passing it to the constructor\n",
      "WARNING:tensorflow:From /home/ruslan/.local/lib/python3.6/site-packages/tensorflow/python/ops/init_ops.py:97: calling Zeros.__init__ (from tensorflow.python.ops.init_ops) with dtype is deprecated and will be removed in a future version.\n",
      "Instructions for updating:\n",
      "Call initializer instance with the dtype argument instead of passing it to the constructor\n",
      "WARNING:tensorflow:From /home/ruslan/.local/lib/python3.6/site-packages/tensorflow/python/ops/init_ops.py:97: calling Ones.__init__ (from tensorflow.python.ops.init_ops) with dtype is deprecated and will be removed in a future version.\n",
      "Instructions for updating:\n",
      "Call initializer instance with the dtype argument instead of passing it to the constructor\n"
     ]
    }
   ],
   "source": [
    "# load the traffic sign recognizer model\n",
    "print(\"[INFO] loading model...\")\n",
    "model = load_model(model_output_name)"
   ]
  },
  {
   "cell_type": "markdown",
   "metadata": {},
   "source": [
    "Choose test images by their path"
   ]
  },
  {
   "cell_type": "code",
   "execution_count": 51,
   "metadata": {},
   "outputs": [],
   "source": [
    "# load the label names\n",
    "labelNames = open(\"signnames.csv\").read().strip().split(\"\\n\")[1:]\n",
    "labelNames = [l.split(\",\")[1] for l in labelNames]\n",
    "\n",
    "# grab the paths to the input images, shuffle them, and grab a sample\n",
    "INPUT_IMAGES_PATH = \"gtsrb-german-traffic-sign/Test\"\n",
    "imagePaths = list(paths.list_images(INPUT_IMAGES_PATH))\n",
    "random.shuffle(imagePaths)\n",
    "imagePaths = imagePaths[:25]"
   ]
  },
  {
   "cell_type": "code",
   "execution_count": 53,
   "metadata": {},
   "outputs": [
    {
     "data": {
      "text/plain": [
       "['gtsrb-german-traffic-sign/Test/06524.png',\n",
       " 'gtsrb-german-traffic-sign/Test/03058.png',\n",
       " 'gtsrb-german-traffic-sign/Test/00420.png']"
      ]
     },
     "execution_count": 53,
     "metadata": {},
     "output_type": "execute_result"
    }
   ],
   "source": [
    "imagePaths[:3]"
   ]
  },
  {
   "cell_type": "markdown",
   "metadata": {},
   "source": [
    "Do predictions and write them to a folder"
   ]
  },
  {
   "cell_type": "code",
   "execution_count": 58,
   "metadata": {},
   "outputs": [],
   "source": [
    "PATH_TO_WRITE_IMAGES = \"examples\"\n",
    "# loop over the image paths\n",
    "for (i, imagePath) in enumerate(imagePaths):\n",
    "    # load the image, resize it to 32x32 pixels, and then apply\n",
    "    # Contrast Limited Adaptive Histogram Equalization (CLAHE),\n",
    "    # just like we did during training\n",
    "    image = io.imread(imagePath)\n",
    "    image = transform.resize(image, (32, 32))\n",
    "    image = exposure.equalize_adapthist(image, clip_limit=0.1)\n",
    "\n",
    "    # preprocess the image by scaling it to the range [0, 1]\n",
    "    image = image.astype(\"float32\") / 255.0\n",
    "    image = np.expand_dims(image, axis=0)\n",
    "\n",
    "    # make predictions using the traffic sign recognizer CNN\n",
    "    preds = model.predict(image)\n",
    "    j = preds.argmax(axis=1)[0]\n",
    "    label = labelNames[j]\n",
    "\n",
    "    # load the image using OpenCV, resize it, and draw the label\n",
    "    # on it\n",
    "    image = cv2.imread(imagePath)\n",
    "    image = imutils.resize(image, width=128)\n",
    "    cv2.putText(image, label, (5, 15), cv2.FONT_HERSHEY_SIMPLEX,\n",
    "        0.45, (0, 0, 255), 2)\n",
    "\n",
    "    # save the image to disk\n",
    "    p = os.path.sep.join([PATH_TO_WRITE_IMAGES, \"{}.png\".format(i)])\n",
    "    cv2.imwrite(p, image)"
   ]
  }
 ],
 "metadata": {
  "kernelspec": {
   "display_name": "Python 3",
   "language": "python",
   "name": "python3"
  },
  "language_info": {
   "codemirror_mode": {
    "name": "ipython",
    "version": 3
   },
   "file_extension": ".py",
   "mimetype": "text/x-python",
   "name": "python",
   "nbconvert_exporter": "python",
   "pygments_lexer": "ipython3",
   "version": "3.6.8"
  }
 },
 "nbformat": 4,
 "nbformat_minor": 2
}
